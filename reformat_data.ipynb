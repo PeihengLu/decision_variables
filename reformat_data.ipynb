{
 "cells": [
  {
   "cell_type": "code",
   "execution_count": 1,
   "metadata": {
    "collapsed": true,
    "pycharm": {
     "name": "#%%\n"
    }
   },
   "outputs": [],
   "source": [
    "import numpy as np\n",
    "import pandas as pd\n",
    "from os.path import join as pjoin\n",
    "from os import listdir\n",
    "from scipy.io import loadmat\n",
    "from datetime import datetime"
   ]
  },
  {
   "cell_type": "markdown",
   "source": [
    "### Load all original data"
   ],
   "metadata": {
    "collapsed": false
   }
  },
  {
   "cell_type": "code",
   "execution_count": 2,
   "outputs": [],
   "source": [
    "dfs = []\n",
    "df_dict = {}"
   ],
   "metadata": {
    "collapsed": false,
    "pycharm": {
     "name": "#%%\n"
    }
   }
  },
  {
   "cell_type": "code",
   "execution_count": 12,
   "outputs": [],
   "source": [
    "for file in listdir('alltaskinfo'):\n",
    "    mouse_name = file[:6]\n",
    "    date = file[6:14]\n",
    "    data_dict = loadmat(pjoin('alltaskinfo', file))\n",
    "    df_dict['trialresponseside'] = data_dict['trialresponseside'][0]\n",
    "    df_dict['trialreward'] = data_dict['trialreward'][0]\n",
    "    df_dict['leftP'] = data_dict['leftP'][0]\n",
    "    df_dict['rightP'] = data_dict['rightP'][0]\n",
    "    ntrials = len(df_dict['trialreward'])\n",
    "    df_dict['trial_index'] = range(ntrials)\n",
    "    df_dict['mouse_name'] = [mouse_name] * ntrials\n",
    "    df_dict['date'] = [datetime.strptime(date, '%Y%m%d')] * ntrials\n",
    "    parameter_dict = loadmat(pjoin('results_data', file))\n",
    "    df_dict['alpha'] = [parameter_dict['alpha'][0][0]] * ntrials\n",
    "    df_dict['zeta'] = [parameter_dict['zeta'][0][0]] * ntrials\n",
    "    df_dict['beta'] = [parameter_dict['beta'][0][0]] * ntrials\n",
    "    df_dict['b'] = [parameter_dict['b'][0][0]] * ntrials\n",
    "    df = pd.DataFrame(df_dict)\n",
    "    dfs.append(df)"
   ],
   "metadata": {
    "collapsed": false,
    "pycharm": {
     "name": "#%%\n"
    }
   }
  },
  {
   "cell_type": "code",
   "execution_count": 13,
   "outputs": [],
   "source": [
    "data_df = pd.concat(dfs)"
   ],
   "metadata": {
    "collapsed": false,
    "pycharm": {
     "name": "#%%\n"
    }
   }
  },
  {
   "cell_type": "code",
   "execution_count": 14,
   "outputs": [
    {
     "data": {
      "text/plain": "     trialresponseside  trialreward  leftP  rightP  trial_index mouse_name  \\\n0                 -1.0          1.0   0.85     0.2            0     AKED01   \n1                 -1.0          1.0   0.85     0.2            1     AKED01   \n2                 -1.0          1.0   0.85     0.2            2     AKED01   \n3                 -1.0          1.0   0.85     0.2            3     AKED01   \n4                 -1.0          1.0   0.85     0.2            4     AKED01   \n..                 ...          ...    ...     ...          ...        ...   \n146                1.0          1.0   0.20     0.9          146     AKED01   \n147                1.0          1.0   0.20     0.9          147     AKED01   \n148                1.0          1.0   0.20     0.9          148     AKED01   \n149                1.0          1.0   0.20     0.9          149     AKED01   \n150                1.0          1.0   0.20     0.9          150     AKED01   \n\n          date  alpha  zeta       beta         b  \n0   2021-07-21   0.05  0.87   8.567837  0.181877  \n1   2021-07-21   0.05  0.87   8.567837  0.181877  \n2   2021-07-21   0.05  0.87   8.567837  0.181877  \n3   2021-07-21   0.05  0.87   8.567837  0.181877  \n4   2021-07-21   0.05  0.87   8.567837  0.181877  \n..         ...    ...   ...        ...       ...  \n146 2021-07-22   0.06  0.86  10.516017  1.109445  \n147 2021-07-22   0.06  0.86  10.516017  1.109445  \n148 2021-07-22   0.06  0.86  10.516017  1.109445  \n149 2021-07-22   0.06  0.86  10.516017  1.109445  \n150 2021-07-22   0.06  0.86  10.516017  1.109445  \n\n[500 rows x 11 columns]",
      "text/html": "<div>\n<style scoped>\n    .dataframe tbody tr th:only-of-type {\n        vertical-align: middle;\n    }\n\n    .dataframe tbody tr th {\n        vertical-align: top;\n    }\n\n    .dataframe thead th {\n        text-align: right;\n    }\n</style>\n<table border=\"1\" class=\"dataframe\">\n  <thead>\n    <tr style=\"text-align: right;\">\n      <th></th>\n      <th>trialresponseside</th>\n      <th>trialreward</th>\n      <th>leftP</th>\n      <th>rightP</th>\n      <th>trial_index</th>\n      <th>mouse_name</th>\n      <th>date</th>\n      <th>alpha</th>\n      <th>zeta</th>\n      <th>beta</th>\n      <th>b</th>\n    </tr>\n  </thead>\n  <tbody>\n    <tr>\n      <th>0</th>\n      <td>-1.0</td>\n      <td>1.0</td>\n      <td>0.85</td>\n      <td>0.2</td>\n      <td>0</td>\n      <td>AKED01</td>\n      <td>2021-07-21</td>\n      <td>0.05</td>\n      <td>0.87</td>\n      <td>8.567837</td>\n      <td>0.181877</td>\n    </tr>\n    <tr>\n      <th>1</th>\n      <td>-1.0</td>\n      <td>1.0</td>\n      <td>0.85</td>\n      <td>0.2</td>\n      <td>1</td>\n      <td>AKED01</td>\n      <td>2021-07-21</td>\n      <td>0.05</td>\n      <td>0.87</td>\n      <td>8.567837</td>\n      <td>0.181877</td>\n    </tr>\n    <tr>\n      <th>2</th>\n      <td>-1.0</td>\n      <td>1.0</td>\n      <td>0.85</td>\n      <td>0.2</td>\n      <td>2</td>\n      <td>AKED01</td>\n      <td>2021-07-21</td>\n      <td>0.05</td>\n      <td>0.87</td>\n      <td>8.567837</td>\n      <td>0.181877</td>\n    </tr>\n    <tr>\n      <th>3</th>\n      <td>-1.0</td>\n      <td>1.0</td>\n      <td>0.85</td>\n      <td>0.2</td>\n      <td>3</td>\n      <td>AKED01</td>\n      <td>2021-07-21</td>\n      <td>0.05</td>\n      <td>0.87</td>\n      <td>8.567837</td>\n      <td>0.181877</td>\n    </tr>\n    <tr>\n      <th>4</th>\n      <td>-1.0</td>\n      <td>1.0</td>\n      <td>0.85</td>\n      <td>0.2</td>\n      <td>4</td>\n      <td>AKED01</td>\n      <td>2021-07-21</td>\n      <td>0.05</td>\n      <td>0.87</td>\n      <td>8.567837</td>\n      <td>0.181877</td>\n    </tr>\n    <tr>\n      <th>...</th>\n      <td>...</td>\n      <td>...</td>\n      <td>...</td>\n      <td>...</td>\n      <td>...</td>\n      <td>...</td>\n      <td>...</td>\n      <td>...</td>\n      <td>...</td>\n      <td>...</td>\n      <td>...</td>\n    </tr>\n    <tr>\n      <th>146</th>\n      <td>1.0</td>\n      <td>1.0</td>\n      <td>0.20</td>\n      <td>0.9</td>\n      <td>146</td>\n      <td>AKED01</td>\n      <td>2021-07-22</td>\n      <td>0.06</td>\n      <td>0.86</td>\n      <td>10.516017</td>\n      <td>1.109445</td>\n    </tr>\n    <tr>\n      <th>147</th>\n      <td>1.0</td>\n      <td>1.0</td>\n      <td>0.20</td>\n      <td>0.9</td>\n      <td>147</td>\n      <td>AKED01</td>\n      <td>2021-07-22</td>\n      <td>0.06</td>\n      <td>0.86</td>\n      <td>10.516017</td>\n      <td>1.109445</td>\n    </tr>\n    <tr>\n      <th>148</th>\n      <td>1.0</td>\n      <td>1.0</td>\n      <td>0.20</td>\n      <td>0.9</td>\n      <td>148</td>\n      <td>AKED01</td>\n      <td>2021-07-22</td>\n      <td>0.06</td>\n      <td>0.86</td>\n      <td>10.516017</td>\n      <td>1.109445</td>\n    </tr>\n    <tr>\n      <th>149</th>\n      <td>1.0</td>\n      <td>1.0</td>\n      <td>0.20</td>\n      <td>0.9</td>\n      <td>149</td>\n      <td>AKED01</td>\n      <td>2021-07-22</td>\n      <td>0.06</td>\n      <td>0.86</td>\n      <td>10.516017</td>\n      <td>1.109445</td>\n    </tr>\n    <tr>\n      <th>150</th>\n      <td>1.0</td>\n      <td>1.0</td>\n      <td>0.20</td>\n      <td>0.9</td>\n      <td>150</td>\n      <td>AKED01</td>\n      <td>2021-07-22</td>\n      <td>0.06</td>\n      <td>0.86</td>\n      <td>10.516017</td>\n      <td>1.109445</td>\n    </tr>\n  </tbody>\n</table>\n<p>500 rows × 11 columns</p>\n</div>"
     },
     "execution_count": 14,
     "metadata": {},
     "output_type": "execute_result"
    }
   ],
   "source": [
    "data_df.head(500)"
   ],
   "metadata": {
    "collapsed": false,
    "pycharm": {
     "name": "#%%\n"
    }
   }
  },
  {
   "cell_type": "code",
   "execution_count": 15,
   "outputs": [],
   "source": [
    "data_df.to_csv('exp_data.csv', index=False)"
   ],
   "metadata": {
    "collapsed": false,
    "pycharm": {
     "name": "#%%\n"
    }
   }
  },
  {
   "cell_type": "code",
   "execution_count": null,
   "outputs": [],
   "source": [],
   "metadata": {
    "collapsed": false,
    "pycharm": {
     "name": "#%%\n"
    }
   }
  }
 ],
 "metadata": {
  "kernelspec": {
   "display_name": "Python 3",
   "language": "python",
   "name": "python3"
  },
  "language_info": {
   "codemirror_mode": {
    "name": "ipython",
    "version": 2
   },
   "file_extension": ".py",
   "mimetype": "text/x-python",
   "name": "python",
   "nbconvert_exporter": "python",
   "pygments_lexer": "ipython2",
   "version": "2.7.6"
  }
 },
 "nbformat": 4,
 "nbformat_minor": 0
}